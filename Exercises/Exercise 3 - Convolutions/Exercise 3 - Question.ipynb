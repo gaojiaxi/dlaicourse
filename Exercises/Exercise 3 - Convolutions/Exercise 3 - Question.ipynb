{
 "cells": [
  {
   "cell_type": "code",
   "execution_count": 1,
   "metadata": {
    "colab": {},
    "colab_type": "code",
    "id": "zX4Kg8DUTKWO"
   },
   "outputs": [],
   "source": [
    "#@title Licensed under the Apache License, Version 2.0 (the \"License\");\n",
    "# you may not use this file except in compliance with the License.\n",
    "# You may obtain a copy of the License at\n",
    "#\n",
    "# https://www.apache.org/licenses/LICENSE-2.0\n",
    "#\n",
    "# Unless required by applicable law or agreed to in writing, software\n",
    "# distributed under the License is distributed on an \"AS IS\" BASIS,\n",
    "# WITHOUT WARRANTIES OR CONDITIONS OF ANY KIND, either express or implied.\n",
    "# See the License for the specific language governing permissions and\n",
    "# limitations under the License."
   ]
  },
  {
   "cell_type": "markdown",
   "metadata": {
    "colab_type": "text",
    "id": "iQjHqsmTAVLU"
   },
   "source": [
    "## Exercise 3\n",
    "In the videos you looked at how you would improve Fashion MNIST using Convolutions. For your exercise see if you can improve MNIST to 99.8% accuracy or more using only a single convolutional layer and a single MaxPooling 2D. You should stop training once the accuracy goes above this amount. It should happen in less than 20 epochs, so it's ok to hard code the number of epochs for training, but your training must end once it hits the above metric. If it doesn't, then you'll need to redesign your layers.\n",
    "\n",
    "I've started the code for you -- you need to finish it!\n",
    "\n",
    "When 99.8% accuracy has been hit, you should print out the string \"Reached 99.8% accuracy so cancelling training!\"\n"
   ]
  },
  {
   "cell_type": "code",
   "execution_count": 16,
   "metadata": {
    "colab": {},
    "colab_type": "code",
    "id": "sfQRyaJWAIdg"
   },
   "outputs": [
    {
     "name": "stdout",
     "output_type": "stream",
     "text": [
      "Train on 60000 samples\n",
      "Epoch 1/20\n",
      "60000/60000 [==============================] - 18s 295us/sample - loss: 0.1541 - accuracy: 0.9549\n",
      "Epoch 2/20\n",
      "60000/60000 [==============================] - 17s 282us/sample - loss: 0.0513 - accuracy: 0.9843\n",
      "Epoch 3/20\n",
      "60000/60000 [==============================] - 17s 290us/sample - loss: 0.0328 - accuracy: 0.9896\n",
      "Epoch 4/20\n",
      "60000/60000 [==============================] - 18s 303us/sample - loss: 0.0222 - accuracy: 0.9930\n",
      "Epoch 5/20\n",
      "60000/60000 [==============================] - 18s 298us/sample - loss: 0.0147 - accuracy: 0.9952\n",
      "Epoch 6/20\n",
      "60000/60000 [==============================] - 17s 282us/sample - loss: 0.0111 - accuracy: 0.9966\n",
      "Epoch 7/20\n",
      "60000/60000 [==============================] - 17s 281us/sample - loss: 0.0075 - accuracy: 0.9976\n",
      "Epoch 8/20\n",
      "59872/60000 [============================>.] - ETA: 0s - loss: 0.0064 - accuracy: 0.9981\n",
      "Reached 99.8% accuracy so cancelling training!\n",
      "60000/60000 [==============================] - 18s 295us/sample - loss: 0.0064 - accuracy: 0.9981\n"
     ]
    },
    {
     "data": {
      "text/plain": [
       "<tensorflow.python.keras.callbacks.History at 0x1a24df067b8>"
      ]
     },
     "execution_count": 16,
     "metadata": {},
     "output_type": "execute_result"
    }
   ],
   "source": [
    "import tensorflow as tf\n",
    "\n",
    "# YOUR CODE STARTS HERE\n",
    "import tensorflow as tf\n",
    "class myCallBack(tf.keras.callbacks.Callback):\n",
    "    def on_epoch_end(self, epoch, logs={}):\n",
    "        if(logs.get('accuracy')>0.998):\n",
    "            print(\"\\nReached 99.8% accuracy so cancelling training!\")\n",
    "            self.model.stop_training = True\n",
    "# YOUR CODE ENDS HERE\n",
    "\n",
    "callback = myCallBack()\n",
    "\n",
    "mnist = tf.keras.datasets.mnist\n",
    "(training_images, training_labels), (test_images, test_labels) = mnist.load_data()\n",
    "\n",
    "# YOUR CODE STARTS HERE\n",
    "training_images,test_images = training_images / 255.0, test_images / 255.0\n",
    "# YOUR CODE ENDS HERE\n",
    "training_images=tf.expand_dims(training_images, 3)\n",
    "test_images = tf.expand_dims(test_images,3)\n",
    "model = tf.keras.models.Sequential([\n",
    "    # YOUR CODE STARTS HERE\n",
    "    tf.keras.layers.Conv2D(32, (3,3), activation = 'relu',input_shape = (28,28,1)),\n",
    "    tf.keras.layers.MaxPool2D(2,2),\n",
    "    tf.keras.layers.Flatten(),\n",
    "    tf.keras.layers.Dense(128,'relu'),\n",
    "    tf.keras.layers.Dense(10,'softmax')\n",
    "    \n",
    "    # YOUR CODE ENDS HERE\n",
    "])\n",
    "\n",
    "# YOUR CODE STARTS HERE\n",
    "model.compile(optimizer='adam', loss='sparse_categorical_crossentropy', metrics=['accuracy'])\n",
    "model.fit(training_images, training_labels, epochs=20, callbacks=[callback])\n",
    "# YOUR CODE ENDS HERE\n"
   ]
  },
  {
   "cell_type": "code",
   "execution_count": null,
   "metadata": {},
   "outputs": [],
   "source": []
  }
 ],
 "metadata": {
  "colab": {
   "collapsed_sections": [],
   "name": "Exercise 3 - Question.ipynb",
   "provenance": [],
   "toc_visible": true,
   "version": "0.3.2"
  },
  "kernelspec": {
   "display_name": "Python 3",
   "language": "python",
   "name": "python3"
  },
  "language_info": {
   "codemirror_mode": {
    "name": "ipython",
    "version": 3
   },
   "file_extension": ".py",
   "mimetype": "text/x-python",
   "name": "python",
   "nbconvert_exporter": "python",
   "pygments_lexer": "ipython3",
   "version": "3.6.9"
  }
 },
 "nbformat": 4,
 "nbformat_minor": 1
}
